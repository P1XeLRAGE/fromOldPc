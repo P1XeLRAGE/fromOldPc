{
  "nbformat": 4,
  "nbformat_minor": 0,
  "metadata": {
    "colab": {
      "name": "hw2ArtemSushko.ipynb",
      "provenance": [],
      "collapsed_sections": [],
      "toc_visible": true,
      "authorship_tag": "ABX9TyPeSKVjVFpFKca2p9NumQfr",
      "include_colab_link": true
    },
    "kernelspec": {
      "name": "python3",
      "display_name": "Python 3"
    },
    "language_info": {
      "name": "python"
    }
  },
  "cells": [
    {
      "cell_type": "markdown",
      "metadata": {
        "id": "view-in-github",
        "colab_type": "text"
      },
      "source": [
        "<a href=\"https://colab.research.google.com/github/P1XeLRAGE/fromOldPc/blob/py/hw2_ArtemSushko.ipynb\" target=\"_parent\"><img src=\"https://colab.research.google.com/assets/colab-badge.svg\" alt=\"Open In Colab\"/></a>"
      ]
    },
    {
      "cell_type": "code",
      "execution_count": null,
      "metadata": {
        "id": "5OQeegPU1Dmt"
      },
      "outputs": [],
      "source": [
        "import numpy as np"
      ]
    },
    {
      "cell_type": "markdown",
      "source": [
        "### Часть 1: разминка с `numpy` (2 балла)"
      ],
      "metadata": {
        "id": "llW5eEs81Mwx"
      }
    },
    {
      "cell_type": "markdown",
      "source": [
        "__Задание 1.__ Напишите функцию `nan_to_mean(A)`, которая принимает на вход двумерный массив `A` и возвращает массив, полученный из `A` путём замены всех элементов `np.nan` на средние по соответствующему столбцу."
      ],
      "metadata": {
        "id": "kRGxvn591Qh4"
      }
    },
    {
      "cell_type": "code",
      "source": [
        "def nan_to_mean(A: np.ndarray) -> np.ndarray:\n",
        "    column_mean = np.nanmean(A, axis=0)\n",
        "    return np.where(np.isnan(A), column_mean, A)\n",
        "    pass\n",
        "\n",
        "assert np.isclose(\n",
        "    nan_to_mean(\n",
        "        np.array(\n",
        "            [[3, -1, np.nan], [-1, np.nan, 4], [np.nan, 1, 5], [np.nan, 0, np.nan]]\n",
        "        )\n",
        "    ),\n",
        "    np.array([[3.0, -1.0, 4.5], [-1.0, 0.0, 4.0], [1.0, 1.0, 5.0], [1.0, 0.0, 4.5]]),\n",
        ").all()\n"
      ],
      "metadata": {
        "id": "ltuipnRt1USp"
      },
      "execution_count": null,
      "outputs": []
    },
    {
      "cell_type": "markdown",
      "source": [
        "__Задание 2.__  Коля — мастер покера и умеет выигрывать только целые суммы денег от 0 до $n - 1$. Коля решил сыграть на турнире. На вход подаётся массив `p` размера $n$, где `p[i]` -- вероятность, что Коля выиграет на турнире $i$ рублей ($\\sum_{i=1}^{n}p_i =1$, $p_i \\geqslant 0, \\forall i$). Посчитайте математическое ожидание выигрыша Коли на турнире."
      ],
      "metadata": {
        "id": "Vumdcfhv387v"
      }
    },
    {
      "cell_type": "code",
      "source": [
        "def expected_reward(p: np.ndarray) -> float:\n",
        "    return p @ np.arange(0, len(p))\n",
        "    pass\n",
        "\n",
        "assert expected_reward(np.array([0.4, 0.5, 0.1])) == 0.7"
      ],
      "metadata": {
        "id": "vG79Y0_74A9d"
      },
      "execution_count": null,
      "outputs": []
    },
    {
      "cell_type": "markdown",
      "source": [
        "__Задание 3.__ Дана квадратная матрица `A`. Посчитайте произведение диагональных элементов матрицы, __строго__ превосходящих среднее значение элементов всей матрицы."
      ],
      "metadata": {
        "id": "uVhqZkot4tv9"
      }
    },
    {
      "cell_type": "code",
      "source": [
        "def prod_upper_avg_diagonal(a: np.ndarray) -> float:\n",
        "    l = np.diag(a)[(np.diag(a) > np.mean(a))]\n",
        "    return np.prod(l)\n",
        "    pass\n",
        "\n",
        "assert prod_upper_avg_diagonal(np.array([[ 0,  1,  2,  3],\n",
        "                                         [ 4,  5,  6,  7],\n",
        "                                         [ 8,  9, 10, 11],\n",
        "                                         [12, 13, 14, 15]])) == 150"
      ],
      "metadata": {
        "id": "gixJa3C84yJZ"
      },
      "execution_count": null,
      "outputs": []
    },
    {
      "cell_type": "markdown",
      "source": [
        "__Задание 4__. Дано число $n$. Создайте матрицу $A$ размера $n \\times n$ такую, что $A[i][j] = i \\cdot j$. Нумерация строк и столбцов начинается с нуля."
      ],
      "metadata": {
        "id": "LC2ZhO2I4962"
      }
    },
    {
      "cell_type": "code",
      "source": [
        "def create_ij(n: int) -> np.ndarray:\n",
        "    a = np.arange(n).reshape(1,n)\n",
        "    b = a.reshape(n,1)\n",
        "    return(np.dot(b,a))\n",
        "\n",
        "assert np.all(create_ij(5) == np.array([[ 0,  0,  0,  0,  0],\n",
        "                                        [ 0,  1,  2,  3,  4],\n",
        "                                        [ 0,  2,  4,  6,  8],\n",
        "                                        [ 0,  3,  6,  9, 12],\n",
        "                                        [ 0,  4,  8, 12, 16]]))"
      ],
      "metadata": {
        "id": "R0iTpB_n49cn"
      },
      "execution_count": null,
      "outputs": []
    },
    {
      "cell_type": "markdown",
      "source": [
        "### Часть 2. `numpy` vs pure Python (3 балла)\n",
        "\n",
        "\n",
        "__Задание 5__. (1 балл) Выберите одну из функций из заданий 2-4 и имплементируйте её, но без использования сторонних библиотек (считайте, что вам доступны только стандартные библиотеки языка Питон и на вход вместо массивов подаются питоновские списки). Тут можно использовать циклы."
      ],
      "metadata": {
        "id": "TedKH_gi5Mhi"
      }
    },
    {
      "cell_type": "code",
      "source": [
        "def create_ij_imlp(n: int) -> list:\n",
        "    ans = []\n",
        "    for i in range(n):\n",
        "        l = []\n",
        "        for j in range(n):\n",
        "            l.append(i * j)\n",
        "        ans.append(l)\n",
        "    return ans\n",
        "\n",
        "create_ij_imlp(5)"
      ],
      "metadata": {
        "colab": {
          "base_uri": "https://localhost:8080/"
        },
        "id": "1nS74X9Q5QnH",
        "outputId": "d75e6ead-231e-4798-d900-7203d389a374"
      },
      "execution_count": null,
      "outputs": [
        {
          "output_type": "execute_result",
          "data": {
            "text/plain": [
              "[[0, 0, 0, 0, 0],\n",
              " [0, 1, 2, 3, 4],\n",
              " [0, 2, 4, 6, 8],\n",
              " [0, 3, 6, 9, 12],\n",
              " [0, 4, 8, 12, 16]]"
            ]
          },
          "metadata": {},
          "execution_count": 6
        }
      ]
    },
    {
      "cell_type": "markdown",
      "source": [
        "__Задание 6__. (2 балла) Сравните время работы векторизованных (имплементированных с помощью `numpy`) функций с обычными. Для этого с помощью библиотеки `matplotlib` постройте графики зависимости времени исполнения функции от размера входного массива. Перебирайте значения от 1 до $10^6$ по логарифмической шкале. Сделайте выводы."
      ],
      "metadata": {
        "id": "tOYvec8I6Ywx"
      }
    },
    {
      "cell_type": "code",
      "source": [
        "import matplotlib.pyplot as plt\n",
        "import time"
      ],
      "metadata": {
        "id": "hritTm3U6xGC"
      },
      "execution_count": null,
      "outputs": []
    },
    {
      "cell_type": "code",
      "source": [
        "def create_ij(n: int) -> np.ndarray:\n",
        "    n = int(n)                              # Colab почему-то тут считает type(n) = float, а не int как раньше\n",
        "    a = np.arange(n).reshape(1,n)\n",
        "    b = a.reshape(n,1)\n",
        "    return(np.dot(b,a))\n",
        "\n",
        "def create_ij_imlp(n: int) -> list:\n",
        "    ans = []\n",
        "    for i in range(int(n)):\n",
        "        l = []\n",
        "        for j in range(int(n)):\n",
        "            l.append(i * j)\n",
        "        ans.append(l)\n",
        "    return ans\n",
        "\n",
        "x_grid = np.linspace(1, 10**3, 300)         # Colab слетает при 10**6\n",
        "y_time_ij = []\n",
        "for x in x_grid:\n",
        "    y = time.time()\n",
        "    create_ij(x)\n",
        "    y_time_ij.append((time.time() - y)*1000)\n",
        "\n",
        "y_time_ij_impl = []\n",
        "for x in x_grid:\n",
        "    y = time.time()\n",
        "    create_ij_imlp(x)\n",
        "    y_time_ij_impl.append((time.time() - y)*1000)\n",
        "\n",
        "plt.figure(figsize=(12, 12))\n",
        "plt.title('Сравнение времени векторизованной и невекторизованной функций create_ij', size = 15)\n",
        "plt.ylabel('Время выполнения функции (мс)')\n",
        "plt.xlabel('размер массива')\n",
        "plt.plot(x_grid, y_time_ij, color='orange', label='векторизованная')\n",
        "plt.plot(x_grid, y_time_ij_impl, color='b', label='невекторизованная')\n",
        "plt.legend()\n",
        "plt.semilogx()\n",
        "plt.grid(True)\n",
        "plt.show()\n"
      ],
      "metadata": {
        "id": "2T_5Bgs56ZrG",
        "colab": {
          "base_uri": "https://localhost:8080/",
          "height": 736
        },
        "outputId": "b22587c4-034d-4fff-87e8-2398be98262a"
      },
      "execution_count": null,
      "outputs": [
        {
          "output_type": "display_data",
          "data": {
            "image/png": "[encoded data removed]",
            "text/plain": [
              "<Figure size 864x864 with 1 Axes>"
            ]
          },
          "metadata": {
            "needs_background": "light"
          }
        }
      ]
    },
    {
      "cell_type": "markdown",
      "source": [
        "## Часть 3. `numpy` и математика"
      ],
      "metadata": {
        "id": "phJpzd-19ug0"
      }
    },
    {
      "cell_type": "markdown",
      "source": [
        "__Задание 7__ (1 балл). Создайте симметричную квадратную матрицу размера 1000 × 1000 (или больше, если памяти хватит), заполненную случайными независимыми (кроме симметричных относительно диагонали, конечно) числами из стандартного нормального распределения. Найдите её собственные значения и постройте гистограмму, показывающую, как распределены эти собственные значения."
      ],
      "metadata": {
        "id": "zKc7XlNV9vaD"
      }
    },
    {
      "cell_type": "code",
      "source": [
        "M = np.random.normal(0,1,size=(1000,1000))    # Генерируем матрицу со значениями из нормального распределения\n",
        "M_symm = (M + np.transpose(M))/2  # Приводит ее к симметричному виду\n",
        "M_symm"
      ],
      "metadata": {
        "colab": {
          "base_uri": "https://localhost:8080/"
        },
        "id": "CYliUh5Z9zw9",
        "outputId": "6152a32e-c628-4a22-95de-498d7ab40568"
      },
      "execution_count": null,
      "outputs": [
        {
          "output_type": "execute_result",
          "data": {
            "text/plain": [
              "array([[ 0.79899903,  0.7540222 , -1.07861965, ..., -1.01499033,\n",
              "        -0.68421191, -0.41124518],\n",
              "       [ 0.7540222 ,  1.65898852, -0.28234896, ..., -0.10171482,\n",
              "         0.8117408 ,  1.18885023],\n",
              "       [-1.07861965, -0.28234896,  1.18128326, ...,  0.3985347 ,\n",
              "         0.97107098,  0.5377668 ],\n",
              "       ...,\n",
              "       [-1.01499033, -0.10171482,  0.3985347 , ...,  0.56147516,\n",
              "         0.55926833, -0.7236826 ],\n",
              "       [-0.68421191,  0.8117408 ,  0.97107098, ...,  0.55926833,\n",
              "         0.44358499, -1.08317139],\n",
              "       [-0.41124518,  1.18885023,  0.5377668 , ..., -0.7236826 ,\n",
              "        -1.08317139,  0.3455184 ]])"
            ]
          },
          "metadata": {},
          "execution_count": 9
        }
      ]
    },
    {
      "cell_type": "code",
      "source": [
        "M_lambda, M_v = np.linalg.eigh(M_symm)"
      ],
      "metadata": {
        "id": "s0PH-AaFBOYx"
      },
      "execution_count": null,
      "outputs": []
    },
    {
      "cell_type": "code",
      "source": [
        "fig, ax = plt.subplots(figsize=(10, 8))\n",
        "ax.hist(M_lambda, bins = int(180/5), color='blue', edgecolor='black')\n",
        "ax.set_title('Распределение собственных значений симметричной матрицы')\n",
        "ax.set_xlabel('Собственные значения')\n",
        "ax.xaxis.set_major_locator(plt.IndexLocator(base = 20, offset =0))\n",
        "for i in ax.patches:\n",
        "    ax.annotate(int(i.get_height()), (i.get_x(), i.get_height()))\n",
        "plt.show()"
      ],
      "metadata": {
        "colab": {
          "base_uri": "https://localhost:8080/",
          "height": 513
        },
        "id": "DAcwFKfXElwU",
        "outputId": "2706a1c1-380b-42ae-8ba8-96565f98aaeb"
      },
      "execution_count": null,
      "outputs": [
        {
          "output_type": "display_data",
          "data": {
            "image/png": "[encoded data removed]",
            "text/plain": [
              "<Figure size 720x576 with 1 Axes>"
            ]
          },
          "metadata": {
            "needs_background": "light"
          }
        }
      ]
    },
    {
      "cell_type": "markdown",
      "source": [
        "__Задание 8__ (2 балла). Напишите функцию `circle_image(M)`, которая принимает на вход двумерный `np.ndarray` размера 2×2 (матрицу) и рисует образ единичной окружности под действием оператора, заданные этой матрицей, а также собственные векторы оператора, заданного матрицей $MM^T$. Картинка должна быть нарисована таким образом, чтобы масштабы горизонтальной и вертикальной оси совпадали (в частности, прямые углы должны изображаться как прямые углы, а окружности как окружности)."
      ],
      "metadata": {
        "id": "iUuL7kBVNPST"
      }
    },
    {
      "cell_type": "code",
      "source": [
        "def circle_image(M: np.ndarray) -> None:\n",
        "    phiarray = np.linspace(0, 360, 30000)\n",
        "    coordarray = [np.cos(phiarray), np.sin(phiarray)]\n",
        "    M_coordarray = np.dot(M, coordarray)\n",
        "    M_l, M_vec = np.linalg.eigh(M @ np.transpose(M))\n",
        "\n",
        "    v1 = np.vstack((np.zeros(2),np.linalg.eig(M@M.T)[1][0])).T[0]\n",
        "    v2 = np.vstack((np.zeros(2),np.linalg.eig(M@M.T)[1][1])).T[0]\n",
        "\n",
        "    w1 = np.vstack((np.zeros(2),np.linalg.eig(M@M.T)[1][0])).T[1]\n",
        "    w2 = np.vstack((np.zeros(2),np.linalg.eig(M@M.T)[1][1])).T[1]\n",
        "\n",
        "    plt.figure(figsize=(8, 8))\n",
        "    plt.plot(M_coordarray[0], M_coordarray[1], color='b')\n",
        "    plt.plot(v1, v2, color='orange')\n",
        "    plt.plot(w1, w2, color='g')\n",
        "    plt.axis([-3, 3, -3, 3])\n",
        "    plt.show()\n",
        "    pass"
      ],
      "metadata": {
        "id": "UGc-qgXZNQZ6"
      },
      "execution_count": null,
      "outputs": []
    },
    {
      "cell_type": "code",
      "source": [
        "circle_image(np.array([[2, 2], [1, 2]]))"
      ],
      "metadata": {
        "colab": {
          "base_uri": "https://localhost:8080/",
          "height": 487
        },
        "id": "2dtiS-ChdL94",
        "outputId": "4a08a41f-7d9b-467f-be20-fee98979c968"
      },
      "execution_count": null,
      "outputs": [
        {
          "output_type": "display_data",
          "data": {
            "image/png": "[encoded data removed]",
            "text/plain": [
              "<Figure size 576x576 with 1 Axes>"
            ]
          },
          "metadata": {
            "needs_background": "light"
          }
        }
      ]
    },
    {
      "cell_type": "markdown",
      "source": [
        "__Задание 9__ (3 балла) Маша, Катя и Люба изучают выборку $x_1, \\ldots, x_n$ из нормального распределения с неизвестным средним $\\mu$ и дисперсией $1$. Они хотят оценить $\\mu$ по этой выборке. Маша в качестве оценки использует выборочное среднее $\\mathrm{\\mathop{Ave}}$ (то есть просто среднее арифметическое), Катя использует [медиану выборки](https://ru.wikipedia.org/wiki/Медиана_(статистика%29), а Люба функцию $\\mathrm{\\mathop{midrange}}$:\n",
        "$$\\mathrm{\\mathop{midrange}}(x_1, \\ldots, x_n)=\\frac{1}{2}(\\max(x_1, \\ldots, x_n)+\\min(x_1, \\ldots, x_n)).$$\n",
        "\n",
        "1. Являются ли эти оценки несмещенными? Ответьте с помощью численного эксперимента: зафиксируйте какое-нибудь $\\mu$ (например, $\\mu=0$) и $n$ (например, $n=10$), сгенерируйте много (например, 10 000) выборок (как вы уже знаете, это можно сделать с помощью функции `np.random.normal`, в качестве `size` нужно передать пару `(число_выборок, n)` — получится матрица указанного  размера, заполненная случайными числами из данного распределения), для каждой найдите значение соответствующей функции (нужно использовать функции `np.mean`, `np.random`, `np.max`, `np.min`) и усредните их. Получается ли число, близкое к $\\mu$? Становится ли оно ближе с увеличением числа выборок (при фиксированном $n$)?"
      ],
      "metadata": {
        "id": "ZTEA0dNC0aKh"
      }
    },
    {
      "cell_type": "code",
      "source": [
        "def mid_range(x: np.array) -> np.array:\n",
        "    return (np.max(x, axis=1) + np.min(x, axis=1))/2"
      ],
      "metadata": {
        "id": "XOPA6gBe3cSF"
      },
      "execution_count": null,
      "outputs": []
    },
    {
      "cell_type": "code",
      "source": [
        "X = np.random.normal(0,1,size=(5, 10000))\n",
        "Masha = np.mean(X, axis = 1)                # Оценки для каждой выборки от Маши\n",
        "Kate = np.median(X, axis = 1)               # Оценки для каждой выборки от Кати\n",
        "Luba = mid_range(X)                         # Оценки для каждой выборки от Любы\n",
        "Masha_mean = np.mean(Masha)                 # Усредненное значение по всем выобркам от Маши\n",
        "Kate_mean = np.mean(Kate)                   # Усредненное значение по всем выобркам от Кати\n",
        "Luba_mean = np.mean(Luba)                   # Усредненное значение по всем выобркам от Любы\n",
        "print(Masha_mean, \"\\n\", Kate_mean, \"\\n\", Luba_mean)"
      ],
      "metadata": {
        "colab": {
          "base_uri": "https://localhost:8080/"
        },
        "id": "9i3zH1640kAu",
        "outputId": "3d656183-1342-416d-a904-23e53a226b7d"
      },
      "execution_count": null,
      "outputs": [
        {
          "output_type": "stream",
          "name": "stdout",
          "text": [
            "-0.011555499656036325 \n",
            " -0.013031347793202312 \n",
            " 0.11818368141008931\n"
          ]
        }
      ]
    },
    {
      "cell_type": "markdown",
      "source": [
        "По предыдущим выборкам получается наиболее близкое число к значению $\\mu$ у Маша, используя для этого среднее арифметическое, затем достаточно близкое у Кати, а у Любы получается в среднем что-то хуже чем у Кати и Маши"
      ],
      "metadata": {
        "id": "MCjaUhdH6IE6"
      }
    },
    {
      "cell_type": "code",
      "source": [
        "dic = {}\n",
        "for n in range(10, 41, 5):\n",
        "    X = np.random.normal(0,1,size=(n, 10000))\n",
        "    Masha = np.mean(X, axis = 1)                # Оценки для каждой выборки длины n, от Маши\n",
        "    Kate = np.median(X, axis = 1)               # Оценки для каждой выборки длины n, от Кати\n",
        "    Luba = mid_range(X)                         # Оценки для каждой выборки длины n, от Любы\n",
        "    Masha_mean = np.mean(Masha)                 # Усредненное значение по всем выобркам длины n, от Маши\n",
        "    Kate_mean = np.mean(Kate)                   # Усредненное значение по всем выобркам длины n, от Кати\n",
        "    Luba_mean = np.mean(Luba)                   # Усредненное значение по всем выобркам длины n, от Любы\n",
        "    dic[n] = [Masha_mean, Kate_mean, Luba_mean]\n",
        "    print(str(n) + \": \" + str(dic[n]))"
      ],
      "metadata": {
        "colab": {
          "base_uri": "https://localhost:8080/"
        },
        "id": "efl6vcJ66sEg",
        "outputId": "1268da7b-b15b-4777-e7a4-8a86d011eae5"
      },
      "execution_count": null,
      "outputs": [
        {
          "output_type": "stream",
          "name": "stdout",
          "text": [
            "10: [-0.006154854419178813, -0.005449296994756871, -0.01783791586474841]\n",
            "15: [-0.0022361414379526838, -0.0032473808313707997, 0.01722553109488558]\n",
            "20: [-0.001416677709060157, 0.003419451231944791, 0.017853112628911472]\n",
            "25: [0.0015313515007942694, 0.0030524048614705658, 0.010659755995570732]\n",
            "30: [-0.0005027268039865684, -0.0007731897305815917, -0.10397981365045877]\n",
            "35: [-0.00273603842065044, -0.0019397355909309267, -0.010793831375995648]\n",
            "40: [0.0018537294454109624, 0.0029762497935165643, -0.012035501709272495]\n"
          ]
        }
      ]
    },
    {
      "cell_type": "markdown",
      "source": [
        "Как можно видеть на примере для 7 различных количеств выборок, разброс не так уж и велик. То есть с увеличением числа выборок эти оценки $\\mu$ не улучшаются."
      ],
      "metadata": {
        "id": "jf0girZ98rsy"
      }
    },
    {
      "cell_type": "markdown",
      "source": [
        "2. Оцените дисперсию каждой оценки для различных $n$. Зафиксируйте число выборок (допустим, 1000) и в цикле по `n` от 2 до 100 выполните следующее. Сгенерируйте 1000 выборок длиной $n$, для каждой выборки найдите значение соответствущей оценки (аналогично предыдущему пункту) и посчитайте выборочную дисперсию для полученных оценок (с помощью `.var()`). Постройте график, показывающий зависимость дисперсии каждой из оценок от $n$. Какая оценка имеет наименьшую дисперсию? Какая наибольшую?  Какую из этих оценок вы бы стали использовать, если бы хотели минимизировать квадратичную ошибку предсказания?"
      ],
      "metadata": {
        "id": "YoQDOCoT-A1G"
      }
    },
    {
      "cell_type": "code",
      "source": [
        "Masha_v = []\n",
        "Kate_v = []\n",
        "Luba_v = []\n",
        "for n in range(2, 100):\n",
        "    X = np.random.normal(0,1,size=(1000, n))\n",
        "    Masha = np.mean(X, axis = 1)                # Оценки для каждой выборки длины n, от Маши\n",
        "    Kate = np.median(X, axis = 1)               # Оценки для каждой выборки длины n, от Кати\n",
        "    Luba = mid_range(X)                         # Оценки для каждой выборки длины n, от Любы\n",
        "    Masha_v.append(np.var(Masha))               # Усредненное значение по всем выобркам длины n, от Маши\n",
        "    Kate_v.append(np.var(Kate))                 # Усредненное значение по всем выобркам длины n, от Кати\n",
        "    Luba_v.append(np.var(Luba))                 # Усредненное значение по всем выобркам длины n, от Любы\n",
        "\n",
        "\n",
        "# Рисуем график зависимости дисперсий для оценок Маши, Кати и Любы для разных n\n",
        "\n",
        "plt.figure(figsize=(10,5))\n",
        "x = np.arange(2,100)\n",
        "plt.plot(x, Masha_v, label='Дисперсия Маши')\n",
        "plt.plot(x, Kate_v, label='Дисперсия Кати')\n",
        "plt.plot(x, Luba_v, label='Дисперсия Любы')\n",
        "plt.title('График зависимости дисперсий для оценок от разных n', size =15)\n",
        "plt.xlabel('Длина выборки n')\n",
        "plt.ylabel('Дисперсия')\n",
        "plt.legend()\n",
        "plt.show()"
      ],
      "metadata": {
        "id": "bvSySxbT98ah",
        "colab": {
          "base_uri": "https://localhost:8080/",
          "height": 352
        },
        "outputId": "12ce7b17-5557-48dc-e6ad-418541027161"
      },
      "execution_count": null,
      "outputs": [
        {
          "output_type": "display_data",
          "data": {
            "image/png": "[encoded data removed]",
            "text/plain": [
              "<Figure size 720x360 with 1 Axes>"
            ]
          },
          "metadata": {
            "needs_background": "light"
          }
        }
      ]
    },
    {
      "cell_type": "markdown",
      "source": [
        "Как итог мы видим, что оценка Маши имеет наименьшую дисперсию, а оценка Любы наибольшую. Для минимизации квадратичной ошибки, очевидно, лучше бы подошла оценка Маши"
      ],
      "metadata": {
        "id": "UChf1aqtLph1"
      }
    },
    {
      "cell_type": "markdown",
      "source": [
        "3. Выполните пункт 2 для равномерного распределения на отрезке $[-1, 1]$. Какая теперь оценка имеет наименьшую дисперсию? Какая наибольшую? Как вы можете объяснить разницу с предыдущим пунктом? Какую из этих оценок вы бы стали использовать в этом случае, если бы хотели минимизировать квадратичную ошибку предсказания?"
      ],
      "metadata": {
        "id": "QfcvyImJ-CgQ"
      }
    },
    {
      "cell_type": "code",
      "source": [
        "Masha_vu = []\n",
        "Kate_vu = []\n",
        "Luba_vu = []\n",
        "for n in range(2, 100):\n",
        "    X = np.random.uniform(-1,1,size=(1000, n))\n",
        "    Masha = np.mean(X, axis = 1)                # Оценки для каждой выборки длины n, от Маши\n",
        "    Kate = np.median(X, axis = 1)               # Оценки для каждой выборки длины n, от Кати\n",
        "    Luba = mid_range(X)                         # Оценки для каждой выборки длины n, от Любы\n",
        "    Masha_vu.append(np.var(Masha))               # Усредненное значение по всем выобркам длины n, от Маши\n",
        "    Kate_vu.append(np.var(Kate))                 # Усредненное значение по всем выобркам длины n, от Кати\n",
        "    Luba_vu.append(np.var(Luba))                 # Усредненное значение по всем выобркам длины n, от Любы\n",
        "\n",
        "\n",
        "# Рисуем график зависимости дисперсий для оценок Маши, Кати и Любы для разных n (равномерное на [-1,1])\n",
        "\n",
        "plt.figure(figsize=(10,5))\n",
        "x = np.arange(2,100)\n",
        "plt.plot(x, Masha_vu, label='Дисперсия Маши')\n",
        "plt.plot(x, Kate_vu, label='Дисперсия Кати')\n",
        "plt.plot(x, Luba_vu, label='Дисперсия Любы')\n",
        "plt.title('График зависимости дисперсий для оценок от разных n (равномерное на [-1,1])', size =15)\n",
        "plt.xlabel('Длина выборки n')\n",
        "plt.ylabel('Дисперсия')\n",
        "plt.legend()\n",
        "plt.show()"
      ],
      "metadata": {
        "colab": {
          "base_uri": "https://localhost:8080/",
          "height": 352
        },
        "id": "_lzuGOEyMINw",
        "outputId": "5d9c8e03-6591-4c06-9926-844e63989ed9"
      },
      "execution_count": null,
      "outputs": [
        {
          "output_type": "display_data",
          "data": {
            "image/png": "[encoded data removed]",
            "text/plain": [
              "<Figure size 720x360 with 1 Axes>"
            ]
          },
          "metadata": {
            "needs_background": "light"
          }
        }
      ]
    },
    {
      "cell_type": "markdown",
      "source": [
        "Из графика видно, что наименьшую дисперсию имеет оценка Любы, а наибольшую оценка Кати. Для минимизации квадратичной ошибки предсказания необходимо использовать оценку Любы.\n",
        "\n",
        "В данном случае с какого-то размера выборки $n$ оценка Любы будет максимально близкой к среднему, так как наибольшее и наименьшее значение будет близко к граничным значениям."
      ],
      "metadata": {
        "id": "9Ot9euF6MHvw"
      }
    },
    {
      "cell_type": "markdown",
      "source": [
        "### Часть 4. Разведочный анализ данных с `pandas` (4 балла)"
      ],
      "metadata": {
        "id": "JqvSEB1rN5n1"
      }
    },
    {
      "cell_type": "code",
      "source": [
        "import pandas as pd"
      ],
      "metadata": {
        "id": "EDg5JnIn-Ibg"
      },
      "execution_count": null,
      "outputs": []
    },
    {
      "cell_type": "code",
      "source": [
        "! wget -O tweets.csv \"https://www.dropbox.com/s/ou55qwyhbj1pdav/tweets.csv?dl=1\""
      ],
      "metadata": {
        "colab": {
          "base_uri": "https://localhost:8080/"
        },
        "id": "_jAMoUn-N-wX",
        "outputId": "fcd68525-3866-4760-c6a6-ecef7b211d68"
      },
      "execution_count": null,
      "outputs": [
        {
          "output_type": "stream",
          "name": "stdout",
          "text": [
            "--2022-02-23 12:31:10--  https://www.dropbox.com/s/ou55qwyhbj1pdav/tweets.csv?dl=1\n",
            "Resolving www.dropbox.com (www.dropbox.com)... 162.125.80.18, 2620:100:6035:18::a27d:5512\n",
            "Connecting to www.dropbox.com (www.dropbox.com)|162.125.80.18|:443... connected.\n",
            "HTTP request sent, awaiting response... 301 Moved Permanently\n",
            "Location: /s/dl/ou55qwyhbj1pdav/tweets.csv [following]\n",
            "--2022-02-23 12:31:10--  https://www.dropbox.com/s/dl/ou55qwyhbj1pdav/tweets.csv\n",
            "Reusing existing connection to www.dropbox.com:443.\n",
            "HTTP request sent, awaiting response... 302 Found\n",
            "Location: https://uc6f6e94208b1c2e8648b65bd225.dl.dropboxusercontent.com/cd/0/get/BgR-xgst5eqcbglpgYrEPq488CtDWq1IPK87aAbyLYcy7sBXQ-CjZvAkVR-5WFmA6pp1thJ-85Ir4iXuxMUvFlXzHWj-UCWSusXJXl0ypn7MCttCmsuk3eMfJToyYSgVpf7yaPegOjGuOuUGzUUR79sy/file?dl=1# [following]\n",
            "--2022-02-23 12:31:11--  https://uc6f6e94208b1c2e8648b65bd225.dl.dropboxusercontent.com/cd/0/get/BgR-xgst5eqcbglpgYrEPq488CtDWq1IPK87aAbyLYcy7sBXQ-CjZvAkVR-5WFmA6pp1thJ-85Ir4iXuxMUvFlXzHWj-UCWSusXJXl0ypn7MCttCmsuk3eMfJToyYSgVpf7yaPegOjGuOuUGzUUR79sy/file?dl=1\n",
            "Resolving uc6f6e94208b1c2e8648b65bd225.dl.dropboxusercontent.com (uc6f6e94208b1c2e8648b65bd225.dl.dropboxusercontent.com)... 162.125.81.15, 2620:100:6035:15::a27d:550f\n",
            "Connecting to uc6f6e94208b1c2e8648b65bd225.dl.dropboxusercontent.com (uc6f6e94208b1c2e8648b65bd225.dl.dropboxusercontent.com)|162.125.81.15|:443... connected.\n",
            "HTTP request sent, awaiting response... 200 OK\n",
            "Length: unspecified [application/binary]\n",
            "Saving to: ‘tweets.csv’\n",
            "\n",
            "tweets.csv              [            <=>     ]  42.74M  9.96MB/s    in 4.4s    \n",
            "\n",
            "2022-02-23 12:31:16 (9.75 MB/s) - ‘tweets.csv’ saved [44812115]\n",
            "\n"
          ]
        }
      ]
    },
    {
      "cell_type": "code",
      "source": [
        "df = pd.read_csv(\"./tweets.csv\")\n",
        "df.head()"
      ],
      "metadata": {
        "colab": {
          "base_uri": "https://localhost:8080/",
          "height": 204
        },
        "id": "wcIyrnBgOKEk",
        "outputId": "ffeca9d7-648c-4461-d47b-e9055791a264"
      },
      "execution_count": null,
      "outputs": [
        {
          "output_type": "execute_result",
          "data": {
            "text/html": [
              "\n",
              "  <div id=\"df-7db75d3f-b4e1-4286-aed3-470c201c6dc1\">\n",
              "    <div class=\"colab-df-container\">\n",
              "      <div>\n",
              "<style scoped>\n",
              "    .dataframe tbody tr th:only-of-type {\n",
              "        vertical-align: middle;\n",
              "    }\n",
              "\n",
              "    .dataframe tbody tr th {\n",
              "        vertical-align: top;\n",
              "    }\n",
              "\n",
              "    .dataframe thead th {\n",
              "        text-align: right;\n",
              "    }\n",
              "</style>\n",
              "<table border=\"1\" class=\"dataframe\">\n",
              "  <thead>\n",
              "    <tr style=\"text-align: right;\">\n",
              "      <th></th>\n",
              "      <th>id</th>\n",
              "      <th>tdate</th>\n",
              "      <th>tmane</th>\n",
              "      <th>ttext</th>\n",
              "      <th>ttype</th>\n",
              "      <th>trep</th>\n",
              "      <th>tfav</th>\n",
              "      <th>tstcount</th>\n",
              "      <th>tfol</th>\n",
              "      <th>tfrien</th>\n",
              "      <th>listcount</th>\n",
              "    </tr>\n",
              "  </thead>\n",
              "  <tbody>\n",
              "    <tr>\n",
              "      <th>0</th>\n",
              "      <td>410745723928731648</td>\n",
              "      <td>1386764386</td>\n",
              "      <td>chavdaridi</td>\n",
              "      <td>RT @dianochka6464ru: Россия отмочила! Смотреть...</td>\n",
              "      <td>1</td>\n",
              "      <td>0</td>\n",
              "      <td>1</td>\n",
              "      <td>0</td>\n",
              "      <td>285</td>\n",
              "      <td>11</td>\n",
              "      <td>11</td>\n",
              "    </tr>\n",
              "    <tr>\n",
              "      <th>1</th>\n",
              "      <td>409580147185315840</td>\n",
              "      <td>1386486491</td>\n",
              "      <td>pifelanybal</td>\n",
              "      <td>Google сменил алгоритм чексуммы в загребании P...</td>\n",
              "      <td>-1</td>\n",
              "      <td>0</td>\n",
              "      <td>0</td>\n",
              "      <td>0</td>\n",
              "      <td>130</td>\n",
              "      <td>100</td>\n",
              "      <td>86</td>\n",
              "    </tr>\n",
              "    <tr>\n",
              "      <th>2</th>\n",
              "      <td>419794699738570752</td>\n",
              "      <td>1388921830</td>\n",
              "      <td>RomanenkoJulya</td>\n",
              "      <td>мне надо домой, @RomaRudenko1 не отпускает(</td>\n",
              "      <td>-1</td>\n",
              "      <td>0</td>\n",
              "      <td>0</td>\n",
              "      <td>0</td>\n",
              "      <td>730</td>\n",
              "      <td>28</td>\n",
              "      <td>18</td>\n",
              "    </tr>\n",
              "    <tr>\n",
              "      <th>3</th>\n",
              "      <td>410625694087909376</td>\n",
              "      <td>1386735769</td>\n",
              "      <td>VizivayuDyavola</td>\n",
              "      <td>RT @boobear1236969: Линта,я слева:D http://t.c...</td>\n",
              "      <td>1</td>\n",
              "      <td>0</td>\n",
              "      <td>3</td>\n",
              "      <td>0</td>\n",
              "      <td>1959</td>\n",
              "      <td>405</td>\n",
              "      <td>537</td>\n",
              "    </tr>\n",
              "    <tr>\n",
              "      <th>4</th>\n",
              "      <td>410849586635628545</td>\n",
              "      <td>1386789149</td>\n",
              "      <td>Den_Byhovsky</td>\n",
              "      <td>@juliasvirid17 я имел ввиду, что для меня спос...</td>\n",
              "      <td>1</td>\n",
              "      <td>0</td>\n",
              "      <td>0</td>\n",
              "      <td>0</td>\n",
              "      <td>3248</td>\n",
              "      <td>61</td>\n",
              "      <td>48</td>\n",
              "    </tr>\n",
              "  </tbody>\n",
              "</table>\n",
              "</div>\n",
              "      <button class=\"colab-df-convert\" onclick=\"convertToInteractive('df-7db75d3f-b4e1-4286-aed3-470c201c6dc1')\"\n",
              "              title=\"Convert this dataframe to an interactive table.\"\n",
              "              style=\"display:none;\">\n",
              "        \n",
              "  <svg xmlns=\"http://www.w3.org/2000/svg\" height=\"24px\"viewBox=\"0 0 24 24\"\n",
              "       width=\"24px\">\n",
              "    <path d=\"M0 0h24v24H0V0z\" fill=\"none\"/>\n",
              "    <path d=\"M18.56 5.44l.94 2.06.94-2.06 2.06-.94-2.06-.94-.94-2.06-.94 2.06-2.06.94zm-11 1L8.5 8.5l.94-2.06 2.06-.94-2.06-.94L8.5 2.5l-.94 2.06-2.06.94zm10 10l.94 2.06.94-2.06 2.06-.94-2.06-.94-.94-2.06-.94 2.06-2.06.94z\"/><path d=\"M17.41 7.96l-1.37-1.37c-.4-.4-.92-.59-1.43-.59-.52 0-1.04.2-1.43.59L10.3 9.45l-7.72 7.72c-.78.78-.78 2.05 0 2.83L4 21.41c.39.39.9.59 1.41.59.51 0 1.02-.2 1.41-.59l7.78-7.78 2.81-2.81c.8-.78.8-2.07 0-2.86zM5.41 20L4 18.59l7.72-7.72 1.47 1.35L5.41 20z\"/>\n",
              "  </svg>\n",
              "      </button>\n",
              "      \n",
              "  <style>\n",
              "    .colab-df-container {\n",
              "      display:flex;\n",
              "      flex-wrap:wrap;\n",
              "      gap: 12px;\n",
              "    }\n",
              "\n",
              "    .colab-df-convert {\n",
              "      background-color: #E8F0FE;\n",
              "      border: none;\n",
              "      border-radius: 50%;\n",
              "      cursor: pointer;\n",
              "      display: none;\n",
              "      fill: #1967D2;\n",
              "      height: 32px;\n",
              "      padding: 0 0 0 0;\n",
              "      width: 32px;\n",
              "    }\n",
              "\n",
              "    .colab-df-convert:hover {\n",
              "      background-color: #E2EBFA;\n",
              "      box-shadow: 0px 1px 2px rgba(60, 64, 67, 0.3), 0px 1px 3px 1px rgba(60, 64, 67, 0.15);\n",
              "      fill: #174EA6;\n",
              "    }\n",
              "\n",
              "    [theme=dark] .colab-df-convert {\n",
              "      background-color: #3B4455;\n",
              "      fill: #D2E3FC;\n",
              "    }\n",
              "\n",
              "    [theme=dark] .colab-df-convert:hover {\n",
              "      background-color: #434B5C;\n",
              "      box-shadow: 0px 1px 3px 1px rgba(0, 0, 0, 0.15);\n",
              "      filter: drop-shadow(0px 1px 2px rgba(0, 0, 0, 0.3));\n",
              "      fill: #FFFFFF;\n",
              "    }\n",
              "  </style>\n",
              "\n",
              "      <script>\n",
              "        const buttonEl =\n",
              "          document.querySelector('#df-7db75d3f-b4e1-4286-aed3-470c201c6dc1 button.colab-df-convert');\n",
              "        buttonEl.style.display =\n",
              "          google.colab.kernel.accessAllowed ? 'block' : 'none';\n",
              "\n",
              "        async function convertToInteractive(key) {\n",
              "          const element = document.querySelector('#df-7db75d3f-b4e1-4286-aed3-470c201c6dc1');\n",
              "          const dataTable =\n",
              "            await google.colab.kernel.invokeFunction('convertToInteractive',\n",
              "                                                     [key], {});\n",
              "          if (!dataTable) return;\n",
              "\n",
              "          const docLinkHtml = 'Like what you see? Visit the ' +\n",
              "            '<a target=\"_blank\" href=https://colab.research.google.com/notebooks/data_table.ipynb>data table notebook</a>'\n",
              "            + ' to learn more about interactive tables.';\n",
              "          element.innerHTML = '';\n",
              "          dataTable['output_type'] = 'display_data';\n",
              "          await google.colab.output.renderOutput(dataTable, element);\n",
              "          const docLink = document.createElement('div');\n",
              "          docLink.innerHTML = docLinkHtml;\n",
              "          element.appendChild(docLink);\n",
              "        }\n",
              "      </script>\n",
              "    </div>\n",
              "  </div>\n",
              "  "
            ],
            "text/plain": [
              "                   id       tdate            tmane  ...  tfol  tfrien  listcount\n",
              "0  410745723928731648  1386764386       chavdaridi  ...   285      11         11\n",
              "1  409580147185315840  1386486491      pifelanybal  ...   130     100         86\n",
              "2  419794699738570752  1388921830   RomanenkoJulya  ...   730      28         18\n",
              "3  410625694087909376  1386735769  VizivayuDyavola  ...  1959     405        537\n",
              "4  410849586635628545  1386789149     Den_Byhovsky  ...  3248      61         48\n",
              "\n",
              "[5 rows x 11 columns]"
            ]
          },
          "metadata": {},
          "execution_count": 21
        }
      ]
    },
    {
      "cell_type": "markdown",
      "source": [
        "__Задание 10__ Создайте колонку `num_mentions`, в которой посчитайте, сколько раз в каждом из твитов были упомянуты логины других пользователей (считаются только упоминания, начинающиеся с `@`)"
      ],
      "metadata": {
        "id": "yimINalyOTfz"
      }
    },
    {
      "cell_type": "code",
      "source": [
        "def count_mentions(tweet: str) -> int:\n",
        "    return tweet.count('@')\n",
        "    pass\n",
        "\n",
        "assert count_mentions(\"some_text @user1 @user2\") == 2\n",
        "\n",
        "df['num_mentions'] = df['ttext'].apply(count_mentions)"
      ],
      "metadata": {
        "id": "QYKIUNSIOURW"
      },
      "execution_count": null,
      "outputs": []
    },
    {
      "cell_type": "markdown",
      "source": [
        "__Задание 11__. Создайте колонку `'tdif'`, равную разнице числа друзей и числа фолловеров у пользователя."
      ],
      "metadata": {
        "id": "mtS6kPXaOV1f"
      }
    },
    {
      "cell_type": "code",
      "source": [
        "df['tdif'] = abs(df['tfol'] - df['tfrien'])"
      ],
      "metadata": {
        "id": "9CI4S7kNOVGq"
      },
      "execution_count": null,
      "outputs": []
    },
    {
      "cell_type": "markdown",
      "source": [
        "__Задание 12__. Создайте датафрейм, в котором остались лишь твиты положительной тональности."
      ],
      "metadata": {
        "id": "lkoROzp0Qx7f"
      }
    },
    {
      "cell_type": "code",
      "source": [
        "newdf = df.loc[df['ttype'] > 0]"
      ],
      "metadata": {
        "id": "auCYFARcQy8Z"
      },
      "execution_count": null,
      "outputs": []
    },
    {
      "cell_type": "markdown",
      "source": [
        "__Задание 13__. Посчитайте число уникальных пользователей (пользователей с различными `tmane`)."
      ],
      "metadata": {
        "id": "UpsmNhYFOU58"
      }
    },
    {
      "cell_type": "code",
      "source": [
        "len(np.unique(df['tmane']))"
      ],
      "metadata": {
        "colab": {
          "base_uri": "https://localhost:8080/"
        },
        "id": "nq3SMlGQRaWh",
        "outputId": "0b5e44c7-660e-420f-8a04-820b6838b791"
      },
      "execution_count": null,
      "outputs": [
        {
          "output_type": "execute_result",
          "data": {
            "text/plain": [
              "139658"
            ]
          },
          "metadata": {},
          "execution_count": 25
        }
      ]
    },
    {
      "cell_type": "markdown",
      "source": [
        "__Задание 14__. Посчитайте основные статистики по числу подписчиков (фолловеров) при помощи метода `.describe()`. Постройте гистограмму значений признака."
      ],
      "metadata": {
        "id": "XVGUztljRa0a"
      }
    },
    {
      "cell_type": "code",
      "source": [
        "df['tfol'].describe()"
      ],
      "metadata": {
        "colab": {
          "base_uri": "https://localhost:8080/"
        },
        "id": "qEDK1Us8RbZb",
        "outputId": "c1db3132-a148-4d52-89d6-3232d0ef60d5"
      },
      "execution_count": null,
      "outputs": [
        {
          "output_type": "execute_result",
          "data": {
            "text/plain": [
              "count    2.268340e+05\n",
              "mean     7.584972e+03\n",
              "std      2.039972e+04\n",
              "min      0.000000e+00\n",
              "25%      4.730000e+02\n",
              "50%      2.026000e+03\n",
              "75%      7.562000e+03\n",
              "max      1.138639e+06\n",
              "Name: tfol, dtype: float64"
            ]
          },
          "metadata": {},
          "execution_count": 26
        }
      ]
    },
    {
      "cell_type": "code",
      "source": [
        "plt.hist(df['tfol'])\n",
        "plt.title('Распределение числа подписчиков')\n",
        "plt.show()"
      ],
      "metadata": {
        "colab": {
          "base_uri": "https://localhost:8080/",
          "height": 294
        },
        "id": "S-wEtFg7SX3J",
        "outputId": "396cb034-3e6c-44b1-cc8d-f6fa3b7c58ae"
      },
      "execution_count": null,
      "outputs": [
        {
          "output_type": "display_data",
          "data": {
            "image/png": "[encoded data removed]",
            "text/plain": [
              "<Figure size 432x288 with 1 Axes>"
            ]
          },
          "metadata": {
            "needs_background": "light"
          }
        }
      ]
    },
    {
      "cell_type": "markdown",
      "source": [
        "__Задание 15__. Посчитайте число ретвитов в датасете (твитов, начинающихся с \"RT @\")."
      ],
      "metadata": {
        "id": "GhUmP16aSjsM"
      }
    },
    {
      "cell_type": "code",
      "source": [
        "df_copy = df.copy()\n",
        "df_copy['loc_ttext'] = df_copy['ttext'].apply(lambda x: x[0:4])\n",
        "df_ret = df_copy.loc[df_copy['loc_ttext'] == 'RT @']\n",
        "df_ret.shape[0]"
      ],
      "metadata": {
        "colab": {
          "base_uri": "https://localhost:8080/"
        },
        "id": "pjv8a640SkUB",
        "outputId": "5c84c8be-6936-49c8-a48e-00bd3aa39e14"
      },
      "execution_count": null,
      "outputs": [
        {
          "output_type": "execute_result",
          "data": {
            "text/plain": [
              "36462"
            ]
          },
          "metadata": {},
          "execution_count": 28
        }
      ]
    },
    {
      "cell_type": "markdown",
      "source": [
        "__Задание 16__. Назовём длинными такой твит, что все более короткие твиты составляют по меньшей мере 80% от всего датасета. Найдите число длинных твитов."
      ],
      "metadata": {
        "id": "Ps-qLhxeWacI"
      }
    },
    {
      "cell_type": "code",
      "source": [
        "df_copy = df.copy()\n",
        "df_copy['len_ttext'] = df_copy['ttext'].apply(lambda x: len(x))\n",
        "bte = np.percentile(df_copy['len_ttext'], 80)\n",
        "df_bte = df_copy.loc[df_copy['len_ttext'] > bte]\n",
        "df_bte['len_ttext'].count()"
      ],
      "metadata": {
        "colab": {
          "base_uri": "https://localhost:8080/"
        },
        "id": "yeHdH_JfWbBf",
        "outputId": "1148a101-8a61-440b-e92d-59dec1f46e6c"
      },
      "execution_count": null,
      "outputs": [
        {
          "output_type": "execute_result",
          "data": {
            "text/plain": [
              "45081"
            ]
          },
          "metadata": {},
          "execution_count": 29
        }
      ]
    },
    {
      "cell_type": "markdown",
      "source": [
        "__Задание 17__. Постройте столбчатую диаграмму (или гистограмму) распределения числа твитов по месяцам. В какой месяц какого года было опубликовано больше всего твитов?"
      ],
      "metadata": {
        "id": "Vq1EweFHfiGL"
      }
    },
    {
      "cell_type": "code",
      "source": [
        "import datetime"
      ],
      "metadata": {
        "id": "U9qA1jGtfigp"
      },
      "execution_count": null,
      "outputs": []
    },
    {
      "cell_type": "code",
      "source": [
        "def month(x):\n",
        "    return datetime.datetime.fromtimestamp(x).strftime('%B')\n",
        "\n",
        "df_copy = df.copy()\n",
        "df_copy['month_tdate'] = df_copy['tdate'].apply(month)\n",
        "\n",
        "plt.hist(df_copy['month_tdate'])\n",
        "plt.title('Распределение по месяцам')\n",
        "plt.show()"
      ],
      "metadata": {
        "colab": {
          "base_uri": "https://localhost:8080/",
          "height": 281
        },
        "id": "c80TeMVdgqbu",
        "outputId": "02bf8314-ded8-4d86-8caa-e1da925b05c9"
      },
      "execution_count": null,
      "outputs": [
        {
          "output_type": "display_data",
          "data": {
            "image/png": "[encoded data removed]",
            "text/plain": [
              "<Figure size 432x288 with 1 Axes>"
            ]
          },
          "metadata": {
            "needs_background": "light"
          }
        }
      ]
    },
    {
      "cell_type": "markdown",
      "source": [
        "### Часть 5. метод k ближайших соседей\n",
        "\n",
        "В этой части мы решим задачу классификации с помощью kNN. Вам могут понадобится несколько функций из библиотеки [scipy](https://scipy.org/) (в соответствующих местах это написано явно). Библиотека `scipy` используется для научных и технических вычислений, которые выполняются над уже знакомыми вам массивами `np.array`."
      ],
      "metadata": {
        "id": "EKIq_VwLjOg9"
      }
    },
    {
      "cell_type": "markdown",
      "source": [
        "__Задание 18__ (4 балла)\n",
        "\n",
        "В этом задании вам предстоит написать функцию, аналог которой есть в библиотеке *scikit-learn* (`sklearn`). Реализовывать различные методы машинного обучения «с нуля» очень полезно: способность реализовать какой-то метод самому — это главный критерий того, что вы понимаете, как он работает. В то же время, разбираться в существующих библиотеках тоже полезно — именно с ними вам придётся столкнуться в любой практической работе. В следующем практическом ДЗ мы будем использовать `sklearn`, а пока что придётся обойтись без этой библиотеки.\n",
        "\n",
        "Вам предстоит реализовать две версии метода $k$ ближайших соседей (kNN) — обычный (который подробно обсуждался на семинаре) и со взвешиванием.\n",
        "\n",
        "В качестве метрики мы будем использовать $d_p(\\cdot,\\ \\cdot)$ — [расстояние Минковского](https://en.wikipedia.org/wiki/Minkowski_distance) порядка $p$.\n",
        "\n",
        "\n",
        "\n",
        "Пусть нам нужно вычислить значение $y$ для некоторого $x_{new}$, наши данные заданы как $\\{x_i, y_i\\}_{i=1}^l$. Обычный метод $k$ ближайших соседей находит такие $i_1, \\ldots, i_k$, что $\\{x_{i_m}\\}_{m=1}^k$ являются $k$ ближайшими соседями для точки $x_{new}$ (по выбранной метрике $d_p(\\cdot,\\ \\cdot)$), и полагает, что значение нового объекта:\n",
        "\n",
        "$$\\widehat{y} = \\underset{c \\in C}{\\mathrm{argmax}}\\ \\sum_{m=1}^k[y_{i_m} = c],$$\n",
        "где $C$ — множество классов, а $[y_{i_m}=c]$ — выражение, равное 1, если $y_{i_m}=c$, и 0 в противном случае. То есть $\\widehat y$ — мода классов $k$ ближайших соседей. Модифицированный метод $k$ ближайших соседей, который вам предстоит реализовать, использует другую оценку:\n",
        "\n",
        "$$\\widehat y = \\underset{c \\in C}{\\mathrm{argmax}} \\sum_{i=1}^l w_{i}[y_i=c],$$\n",
        "где вес $w_i$ вычисляется следующим образом:\n",
        "$$\n",
        "    w_i = \\cfrac{\\exp(-d_p(x_{new}, x_i))}{\\sum_{j=1}^l \\exp(-d_p(x_{new}, x_j))}\n",
        "$$\n",
        "\n",
        "\n",
        "Таким образом, модифицированный метод присваивает $i$-му объекту вес $w_{i}$, уменьшающийся с увеличением расстояния до $x_{new}$, вместо того чтобы присваивать $k$ ближайшим соседям вес $1$, а остальным $0$.\n",
        "\n",
        "---\n",
        "\n",
        "Ниже предоставлен шаблон функции для реализации метода, который возвращает предсказания для тестовой выборки, используя взвешенный или обычный kNN (с возможностью выбора порядка $p$ метрики расстояния). В отличие от семинара, ваша функция принимает не одну точку `x_new`, а двумерный массив `x_test`, аналогичный `x_train` (но, возможно, с другим количеством строк), и для каждой строки в `x_train` должна выдать соответствующее предсказание. Таким образом, на выходе у функции будет одномерный массив, число элементов которого равно числу строк в `x_test`. Для простоты, мы будем считать, что у нас задача двухклассовой классификации, и $y$ принимает значения 0 или 1. (Но вы можете подумать, как реализовать аналогичную функцию для многоклассовой классификации — это тоже можно сделать без циклов!)\n",
        "\n",
        "---\n",
        "\n",
        "Полный балл за эту задачу ставится в том случае, если решение не использует циклы. За решение с циклами можно получить не больше **3 баллов**. Если без циклов всё-таки не удалось обойтись, старайтесь использовать их по-минимуму.\n",
        "\n",
        "**Подсказка.** Чтобы решить эту задачу без циклов, нужно использовать много магии `numpy`. Для каждой точки из `x_test` нужно найти её ближайших соседей в `x_train`; чтобы это сделать для всех точек из `x_test`, вам нужно найти все попарные расстояния между `x_train` и `x_test`. Существует библиотечная функция в `scipy`, которая позволяет это сделать быстро и без циклов - [`scipy.spatial.distance.pdist`](https://scipy.github.io/devdocs/reference/generated/scipy.spatial.distance.pdist.html). На семинаре обсуждалось, как можно использовать `np.argsort`, чтобы найти самого близкого соседа, второго по близости и т.д. В этой задаче вам нужно обобщить подход из семинара на двумерные массивы. Оказывается, как и у многих других функций в `numpy`, у `np.argsort` есть аргумент `axis` — с его помощью можно в каждой строке или каждом столбце найти самый маленький элемент, второй по маленькости и т.д. Чтобы понять, как всё это работает, проще всего создать какой-нибудь небольшой двумерный массив и поэкспериментировать с `np.argsort` и `axis`.\n",
        "\n",
        "Следующую подсказку проще всего показать на примере:"
      ],
      "metadata": {
        "id": "Nv2yNMOFjPqm"
      }
    },
    {
      "cell_type": "code",
      "source": [
        "z = np.array([0, 11, 22, 33, 44])\n",
        "indices = np.array([[2, 3],\n",
        "                    [1, 2],\n",
        "                    [4, 4]])\n",
        "z[indices]"
      ],
      "metadata": {
        "colab": {
          "base_uri": "https://localhost:8080/"
        },
        "id": "_RiTR6qGjYR6",
        "outputId": "03fb0e38-1710-4e1c-fa3e-78a907e8afdd"
      },
      "execution_count": 55,
      "outputs": [
        {
          "output_type": "execute_result",
          "data": {
            "text/plain": [
              "array([[22, 33],\n",
              "       [11, 22],\n",
              "       [44, 44]])"
            ]
          },
          "metadata": {},
          "execution_count": 55
        }
      ]
    },
    {
      "cell_type": "markdown",
      "source": [
        " Для выбора наиболее часто встречающегося элемента можно использовать [`scipy.stats.mode`](https://scipy.github.io/devdocs/reference/generated/scipy.stats.mode.html). \n",
        "\n",
        "**Внимание!** Вычисление весов $w_i$ исключительно через функции `np.sum` и `np.exp` может быть численно неустойчивым. Воспользуйтесь функцией [`scipy.special.softmax`](https://scipy.github.io/devdocs/reference/generated/scipy.special.softmax.html)."
      ],
      "metadata": {
        "id": "rIDoGtPajhKX"
      }
    },
    {
      "cell_type": "code",
      "source": [
        "from scipy.special import softmax\n",
        "from scipy.spatial import distance\n",
        "from scipy import stats"
      ],
      "metadata": {
        "id": "qoOfmBlIqoyQ"
      },
      "execution_count": 54,
      "outputs": []
    },
    {
      "cell_type": "code",
      "source": [
        "def knn_classifier(x_train, y_train, x_test, k=1, p=1, weight=False):\n",
        "    \"\"\"\n",
        "    x_train is np.array with shape (l, d) (matrix with l rows, d columns)\n",
        "    y_train is np.array with shape (l, ) (1-dimensional array with l elements)\n",
        "    x_test is np.array with shape (n, d) (matrix with n rows, d columns)\n",
        "    k is int (if weight is True, then the argument is ignored, else - number of neighbours)\n",
        "    p is int (order p of Minkowski distance)\n",
        "    weight is boolean, whether to use the weighted method or not\n",
        "\n",
        "    return y_test, np.array with shape (n, ) (1-dimensional array with n elements)\n",
        "    \"\"\"\n",
        "    def y_h(c):\n",
        "        result = np.sum( w[np.where(y_train == c)] )\n",
        "        return result\n",
        "\n",
        "    distances = []\n",
        "    for i in range(len(x_train)):\n",
        "        l = []\n",
        "        for x_j in x_test:\n",
        "            l.append(abs(distance.minkowski(x_train[i], x_j, p)))\n",
        "        distances.append(l)\n",
        "    indexes = np.argsort(distances, axis=1)[:k]\n",
        "    k_first = y_train[indexes]\n",
        "    \n",
        "    w = np.ones(len(y_train))\n",
        "    distances_minus = []\n",
        "    for i in distances:\n",
        "        l = []\n",
        "        for j in range(len(i)):\n",
        "            l.append(-1*i[j])\n",
        "        distances_minus.append(l)\n",
        "    if weight == True:\n",
        "        w = softmax(distances_minus)\n",
        "    y_f = np.vectorize(y_h)\n",
        "    return k_first[np.argmax(y_f(k_first))]\n",
        "\n",
        "\n",
        "    "
      ],
      "metadata": {
        "id": "RxMSjQPNjhht"
      },
      "execution_count": 119,
      "outputs": []
    },
    {
      "cell_type": "code",
      "source": [
        "np.random.seed(42)\n",
        "l = 500\n",
        "x_train = np.random.normal(size=(l, 10))\n",
        "y_train = np.random.randint(2, size=l)\n",
        "x_test = np.random.normal(size=(100, 10))\n",
        "assert np.all(np.isclose(\n",
        "    knn_classifier(x_train, y_train, x_test, k=1, weight=True),\n",
        "    np.array([1, 1, 1, 0, 0, 1, 1, 1, 1, 1, 0, 1, 0, 0, 1, 1, 0, 1, 0, 1, 0, 1,\n",
        "       0, 0, 0, 0, 1, 1, 0, 1, 1, 1, 1, 0, 0, 1, 0, 0, 0, 1, 0, 0, 0, 0,\n",
        "       0, 0, 0, 0, 0, 0, 1, 1, 0, 0, 0, 0, 1, 0, 1, 0, 1, 0, 1, 0, 0, 0,\n",
        "       1, 1, 1, 0, 1, 0, 0, 1, 1, 0, 0, 0, 1, 0, 0, 0, 0, 1, 0, 0, 0, 0,\n",
        "       1, 1, 1, 0, 1, 1, 1, 1, 0, 1, 0, 1])\n",
        "))\n",
        "\n",
        "assert np.all(np.isclose(knn_classifier(x_train, y_train, x_test, p=1, weight=False, k=3),\n",
        "          np.array([0, 1, 1, 0, 0, 1, 1, 1, 1, 1, 0, 0, 0, 0, 1, 1, 0, 1, 0, 1, 0, 1,\n",
        "                   0, 1, 0, 0, 1, 0, 0, 1, 1, 1, 1, 1, 0, 1, 1, 1, 0, 0, 0, 0, 0, 0,\n",
        "                   0, 0, 0, 0, 0, 0, 0, 1, 0, 0, 0, 0, 1, 0, 1, 0, 1, 0, 1, 0, 0, 0,\n",
        "                   1, 1, 1, 0, 1, 0, 0, 1, 1, 0, 0, 1, 0, 0, 0, 0, 0, 1, 0, 1, 1, 1,\n",
        "                   1, 1, 1, 0, 1, 1, 1, 1, 0, 1, 0, 1])))"
      ],
      "metadata": {
        "id": "_0fRqUEQjplK",
        "colab": {
          "base_uri": "https://localhost:8080/",
          "height": 232
        },
        "outputId": "a666181a-49a1-4342-e64d-ce48e468d5b2"
      },
      "execution_count": 120,
      "outputs": [
        {
          "output_type": "error",
          "ename": "AssertionError",
          "evalue": "ignored",
          "traceback": [
            "\u001b[0;31m---------------------------------------------------------------------------\u001b[0m",
            "\u001b[0;31mAssertionError\u001b[0m                            Traceback (most recent call last)",
            "\u001b[0;32m<ipython-input-120-298db9b34896>\u001b[0m in \u001b[0;36m<module>\u001b[0;34m()\u001b[0m\n\u001b[1;32m     10\u001b[0m        \u001b[0;36m0\u001b[0m\u001b[0;34m,\u001b[0m \u001b[0;36m0\u001b[0m\u001b[0;34m,\u001b[0m \u001b[0;36m0\u001b[0m\u001b[0;34m,\u001b[0m \u001b[0;36m0\u001b[0m\u001b[0;34m,\u001b[0m \u001b[0;36m0\u001b[0m\u001b[0;34m,\u001b[0m \u001b[0;36m0\u001b[0m\u001b[0;34m,\u001b[0m \u001b[0;36m1\u001b[0m\u001b[0;34m,\u001b[0m \u001b[0;36m1\u001b[0m\u001b[0;34m,\u001b[0m \u001b[0;36m0\u001b[0m\u001b[0;34m,\u001b[0m \u001b[0;36m0\u001b[0m\u001b[0;34m,\u001b[0m \u001b[0;36m0\u001b[0m\u001b[0;34m,\u001b[0m \u001b[0;36m0\u001b[0m\u001b[0;34m,\u001b[0m \u001b[0;36m1\u001b[0m\u001b[0;34m,\u001b[0m \u001b[0;36m0\u001b[0m\u001b[0;34m,\u001b[0m \u001b[0;36m1\u001b[0m\u001b[0;34m,\u001b[0m \u001b[0;36m0\u001b[0m\u001b[0;34m,\u001b[0m \u001b[0;36m1\u001b[0m\u001b[0;34m,\u001b[0m \u001b[0;36m0\u001b[0m\u001b[0;34m,\u001b[0m \u001b[0;36m1\u001b[0m\u001b[0;34m,\u001b[0m \u001b[0;36m0\u001b[0m\u001b[0;34m,\u001b[0m \u001b[0;36m0\u001b[0m\u001b[0;34m,\u001b[0m \u001b[0;36m0\u001b[0m\u001b[0;34m,\u001b[0m\u001b[0;34m\u001b[0m\u001b[0;34m\u001b[0m\u001b[0m\n\u001b[1;32m     11\u001b[0m        \u001b[0;36m1\u001b[0m\u001b[0;34m,\u001b[0m \u001b[0;36m1\u001b[0m\u001b[0;34m,\u001b[0m \u001b[0;36m1\u001b[0m\u001b[0;34m,\u001b[0m \u001b[0;36m0\u001b[0m\u001b[0;34m,\u001b[0m \u001b[0;36m1\u001b[0m\u001b[0;34m,\u001b[0m \u001b[0;36m0\u001b[0m\u001b[0;34m,\u001b[0m \u001b[0;36m0\u001b[0m\u001b[0;34m,\u001b[0m \u001b[0;36m1\u001b[0m\u001b[0;34m,\u001b[0m \u001b[0;36m1\u001b[0m\u001b[0;34m,\u001b[0m \u001b[0;36m0\u001b[0m\u001b[0;34m,\u001b[0m \u001b[0;36m0\u001b[0m\u001b[0;34m,\u001b[0m \u001b[0;36m0\u001b[0m\u001b[0;34m,\u001b[0m \u001b[0;36m1\u001b[0m\u001b[0;34m,\u001b[0m \u001b[0;36m0\u001b[0m\u001b[0;34m,\u001b[0m \u001b[0;36m0\u001b[0m\u001b[0;34m,\u001b[0m \u001b[0;36m0\u001b[0m\u001b[0;34m,\u001b[0m \u001b[0;36m0\u001b[0m\u001b[0;34m,\u001b[0m \u001b[0;36m1\u001b[0m\u001b[0;34m,\u001b[0m \u001b[0;36m0\u001b[0m\u001b[0;34m,\u001b[0m \u001b[0;36m0\u001b[0m\u001b[0;34m,\u001b[0m \u001b[0;36m0\u001b[0m\u001b[0;34m,\u001b[0m \u001b[0;36m0\u001b[0m\u001b[0;34m,\u001b[0m\u001b[0;34m\u001b[0m\u001b[0;34m\u001b[0m\u001b[0m\n\u001b[0;32m---> 12\u001b[0;31m        1, 1, 1, 0, 1, 1, 1, 1, 0, 1, 0, 1])\n\u001b[0m\u001b[1;32m     13\u001b[0m ))\n\u001b[1;32m     14\u001b[0m \u001b[0;34m\u001b[0m\u001b[0m\n",
            "\u001b[0;31mAssertionError\u001b[0m: "
          ]
        }
      ]
    },
    {
      "cell_type": "markdown",
      "source": [
        "Это то как я решал, если вам поможет это накинуть мне немного баллов))"
      ],
      "metadata": {
        "id": "jiDItSV6pHja"
      }
    },
    {
      "cell_type": "code",
      "source": [
        "np.random.seed(42)\n",
        "l = 10\n",
        "x_train = np.random.normal(size=(l, 10))\n",
        "y_train = np.random.randint(2, size=l)\n",
        "x_test = np.random.normal(size=(5, 10))\n",
        "\n",
        "def knn_classifier(x_train, y_train, x_test, k=1, p=1, weight=False):\n",
        "    def y_h(c):\n",
        "        result = np.sum( w[np.where(y_train == c)] )\n",
        "        return result\n",
        "\n",
        "    distances = []\n",
        "    for i in range(len(x_train)):\n",
        "        l = []\n",
        "        for x_j in x_test:\n",
        "            l.append(abs(distance.minkowski(x_train[i], x_j, p)))\n",
        "        distances.append(l)\n",
        "    indexes = np.argsort(distances, axis=1)[:k]\n",
        "    k_first = y_train[indexes]\n",
        "    \n",
        "    w = np.ones(len(y_train))\n",
        "    distances_minus = []\n",
        "    for i in distances:\n",
        "        l = []\n",
        "        for j in range(len(i)):\n",
        "            l.append(-1*i[j])\n",
        "        distances_minus.append(l)\n",
        "    if weight == True:\n",
        "        w = softmax(distances_minus)\n",
        "    y_f = np.vectorize(y_h)\n",
        "    return k_first[np.argmax(y_f(k_first))]\n",
        "\n",
        "knn_classifier(x_train, y_train, x_test, k=1, weight=True)\n",
        "\n",
        "# print(y_train)\n",
        "# p=1\n",
        "\n",
        "# distances = []\n",
        "# for i in range(len(x_train)):\n",
        "#     l = []\n",
        "#     for x_j in x_test:\n",
        "#         l.append(abs(distance.minkowski(x_train[i], x_j, p)))\n",
        "#     distances.append(l)\n",
        "# print(distances)\n",
        "# print(np.argsort(distances, axis=1))\n",
        "# distances_minus = []\n",
        "# for i in distances:\n",
        "#     l = []\n",
        "#     for j in range(len(i)):\n",
        "#         l.append(-1*i[j])\n",
        "#     distances_minus.append(l)\n",
        "# print(distances_minus)\n",
        "\n",
        "# sorted_tuples = sorted(distances.items(), key=lambda item: item[1])\n",
        "# sorted_distances = {k: v for k, v in sorted_tuples}\n",
        "# for x in sorted_distances:\n",
        "#     print(str(x)+' : '+str(distances[x]))"
      ],
      "metadata": {
        "colab": {
          "base_uri": "https://localhost:8080/"
        },
        "id": "f8_BHkTn1fwr",
        "outputId": "cdaf7bf3-be4a-4202-be12-be2bd4c0e1fd"
      },
      "execution_count": 110,
      "outputs": [
        {
          "output_type": "execute_result",
          "data": {
            "text/plain": [
              "array([0, 1, 0, 0, 0])"
            ]
          },
          "metadata": {},
          "execution_count": 110
        }
      ]
    }
  ]
}